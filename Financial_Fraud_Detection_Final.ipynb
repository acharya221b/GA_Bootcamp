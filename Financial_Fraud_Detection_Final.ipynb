{
 "cells": [
  {
   "cell_type": "code",
   "execution_count": 2,
   "metadata": {
    "colab": {
     "base_uri": "https://localhost:8080/",
     "height": 110
    },
    "colab_type": "code",
    "id": "CnH5a1GfZykt",
    "outputId": "d01f91b4-540f-4b4e-9580-0304442dd1bc"
   },
   "outputs": [
    {
     "name": "stderr",
     "output_type": "stream",
     "text": [
      "/usr/local/lib/python3.6/dist-packages/sklearn/externals/six.py:31: FutureWarning: The module is deprecated in version 0.21 and will be removed in version 0.23 since we've dropped support for Python 2.7. Please rely on the official version of six (https://pypi.org/project/six/).\n",
      "  \"(https://pypi.org/project/six/).\", FutureWarning)\n",
      "/usr/local/lib/python3.6/dist-packages/sklearn/utils/deprecation.py:144: FutureWarning: The sklearn.neighbors.base module is  deprecated in version 0.22 and will be removed in version 0.24. The corresponding classes / functions should instead be imported from sklearn.neighbors. Anything that cannot be imported from sklearn.neighbors is now part of the private API.\n",
      "  warnings.warn(message, FutureWarning)\n"
     ]
    }
   ],
   "source": [
    "import pandas as pd\n",
    "import numpy as np\n",
    "import matplotlib.pyplot as plt\n",
    "import seaborn as sns\n",
    "pd.set_option('display.max_columns', None)\n",
    "from sklearn.preprocessing import LabelEncoder\n",
    "import scipy.stats as ss\n",
    "from scipy.stats import chi2_contingency\n",
    "from sklearn.model_selection import train_test_split as tts, GridSearchCV\n",
    "from imblearn.under_sampling import RandomUnderSampler\n",
    "from imblearn.over_sampling import RandomOverSampler,SMOTE\n",
    "from sklearn.tree import DecisionTreeClassifier\n",
    "from sklearn.ensemble import RandomForestClassifier\n",
    "from xgboost import XGBClassifier\n",
    "from sklearn.metrics import accuracy_score,f1_score,precision_score,recall_score,classification_report, confusion_matrix"
   ]
  },
  {
   "cell_type": "code",
   "execution_count": 3,
   "metadata": {
    "colab": {
     "base_uri": "https://localhost:8080/",
     "height": 226
    },
    "colab_type": "code",
    "id": "rJzXxZCNZylB",
    "outputId": "881859ef-f082-453b-dcc6-e14d3f7a58a6"
   },
   "outputs": [
    {
     "data": {
      "text/html": [
       "<div>\n",
       "<style scoped>\n",
       "    .dataframe tbody tr th:only-of-type {\n",
       "        vertical-align: middle;\n",
       "    }\n",
       "\n",
       "    .dataframe tbody tr th {\n",
       "        vertical-align: top;\n",
       "    }\n",
       "\n",
       "    .dataframe thead th {\n",
       "        text-align: right;\n",
       "    }\n",
       "</style>\n",
       "<table border=\"1\" class=\"dataframe\">\n",
       "  <thead>\n",
       "    <tr style=\"text-align: right;\">\n",
       "      <th></th>\n",
       "      <th>step</th>\n",
       "      <th>type</th>\n",
       "      <th>amount</th>\n",
       "      <th>nameOrig</th>\n",
       "      <th>oldbalanceOrg</th>\n",
       "      <th>newbalanceOrig</th>\n",
       "      <th>nameDest</th>\n",
       "      <th>oldbalanceDest</th>\n",
       "      <th>newbalanceDest</th>\n",
       "      <th>isFraud</th>\n",
       "      <th>isFlaggedFraud</th>\n",
       "    </tr>\n",
       "  </thead>\n",
       "  <tbody>\n",
       "    <tr>\n",
       "      <th>0</th>\n",
       "      <td>1</td>\n",
       "      <td>PAYMENT</td>\n",
       "      <td>9839.64</td>\n",
       "      <td>C1231006815</td>\n",
       "      <td>170136.0</td>\n",
       "      <td>160296.36</td>\n",
       "      <td>M1979787155</td>\n",
       "      <td>0.0</td>\n",
       "      <td>0.0</td>\n",
       "      <td>0</td>\n",
       "      <td>0</td>\n",
       "    </tr>\n",
       "    <tr>\n",
       "      <th>1</th>\n",
       "      <td>1</td>\n",
       "      <td>PAYMENT</td>\n",
       "      <td>1864.28</td>\n",
       "      <td>C1666544295</td>\n",
       "      <td>21249.0</td>\n",
       "      <td>19384.72</td>\n",
       "      <td>M2044282225</td>\n",
       "      <td>0.0</td>\n",
       "      <td>0.0</td>\n",
       "      <td>0</td>\n",
       "      <td>0</td>\n",
       "    </tr>\n",
       "    <tr>\n",
       "      <th>2</th>\n",
       "      <td>1</td>\n",
       "      <td>TRANSFER</td>\n",
       "      <td>181.00</td>\n",
       "      <td>C1305486145</td>\n",
       "      <td>181.0</td>\n",
       "      <td>0.00</td>\n",
       "      <td>C553264065</td>\n",
       "      <td>0.0</td>\n",
       "      <td>0.0</td>\n",
       "      <td>1</td>\n",
       "      <td>0</td>\n",
       "    </tr>\n",
       "    <tr>\n",
       "      <th>3</th>\n",
       "      <td>1</td>\n",
       "      <td>CASH_OUT</td>\n",
       "      <td>181.00</td>\n",
       "      <td>C840083671</td>\n",
       "      <td>181.0</td>\n",
       "      <td>0.00</td>\n",
       "      <td>C38997010</td>\n",
       "      <td>21182.0</td>\n",
       "      <td>0.0</td>\n",
       "      <td>1</td>\n",
       "      <td>0</td>\n",
       "    </tr>\n",
       "    <tr>\n",
       "      <th>4</th>\n",
       "      <td>1</td>\n",
       "      <td>PAYMENT</td>\n",
       "      <td>11668.14</td>\n",
       "      <td>C2048537720</td>\n",
       "      <td>41554.0</td>\n",
       "      <td>29885.86</td>\n",
       "      <td>M1230701703</td>\n",
       "      <td>0.0</td>\n",
       "      <td>0.0</td>\n",
       "      <td>0</td>\n",
       "      <td>0</td>\n",
       "    </tr>\n",
       "  </tbody>\n",
       "</table>\n",
       "</div>"
      ],
      "text/plain": [
       "   step      type    amount     nameOrig  oldbalanceOrg  newbalanceOrig  \\\n",
       "0     1   PAYMENT   9839.64  C1231006815       170136.0       160296.36   \n",
       "1     1   PAYMENT   1864.28  C1666544295        21249.0        19384.72   \n",
       "2     1  TRANSFER    181.00  C1305486145          181.0            0.00   \n",
       "3     1  CASH_OUT    181.00   C840083671          181.0            0.00   \n",
       "4     1   PAYMENT  11668.14  C2048537720        41554.0        29885.86   \n",
       "\n",
       "      nameDest  oldbalanceDest  newbalanceDest  isFraud  isFlaggedFraud  \n",
       "0  M1979787155             0.0             0.0        0               0  \n",
       "1  M2044282225             0.0             0.0        0               0  \n",
       "2   C553264065             0.0             0.0        1               0  \n",
       "3    C38997010         21182.0             0.0        1               0  \n",
       "4  M1230701703             0.0             0.0        0               0  "
      ]
     },
     "execution_count": 3,
     "metadata": {
      "tags": []
     },
     "output_type": "execute_result"
    }
   ],
   "source": [
    "data=pd.read_csv(\"/content/drive/My Drive/Boot Camp Hackathon/data.csv\")\n",
    "data.head()"
   ]
  },
  {
   "cell_type": "code",
   "execution_count": 4,
   "metadata": {
    "colab": {
     "base_uri": "https://localhost:8080/",
     "height": 72
    },
    "colab_type": "code",
    "id": "APal75tvZylP",
    "outputId": "f65498cf-f68f-42fe-90f2-6fb22edfa59a"
   },
   "outputs": [
    {
     "data": {
      "text/plain": [
       "0    0.998709\n",
       "1    0.001291\n",
       "Name: isFraud, dtype: float64"
      ]
     },
     "execution_count": 4,
     "metadata": {
      "tags": []
     },
     "output_type": "execute_result"
    }
   ],
   "source": [
    "data[\"isFraud\"].value_counts()/data.shape[0]"
   ]
  },
  {
   "cell_type": "code",
   "execution_count": 5,
   "metadata": {
    "colab": {
     "base_uri": "https://localhost:8080/",
     "height": 72
    },
    "colab_type": "code",
    "id": "O_MKejPrZylZ",
    "outputId": "cf44baf6-3ff2-44f0-937b-b7f0fb8cf9c3"
   },
   "outputs": [
    {
     "data": {
      "text/plain": [
       "0    0.999997\n",
       "1    0.000003\n",
       "Name: isFlaggedFraud, dtype: float64"
      ]
     },
     "execution_count": 5,
     "metadata": {
      "tags": []
     },
     "output_type": "execute_result"
    }
   ],
   "source": [
    "data[\"isFlaggedFraud\"].value_counts()/data.shape[0]"
   ]
  },
  {
   "cell_type": "code",
   "execution_count": 6,
   "metadata": {
    "colab": {
     "base_uri": "https://localhost:8080/",
     "height": 127
    },
    "colab_type": "code",
    "id": "BW0vYLaDZylh",
    "outputId": "ea7eba7c-c02a-4971-aa81-4edbc6c97c65"
   },
   "outputs": [
    {
     "data": {
      "text/plain": [
       "CASH_OUT    2237500\n",
       "PAYMENT     2151495\n",
       "CASH_IN     1399284\n",
       "TRANSFER     532909\n",
       "DEBIT         41432\n",
       "Name: type, dtype: int64"
      ]
     },
     "execution_count": 6,
     "metadata": {
      "tags": []
     },
     "output_type": "execute_result"
    }
   ],
   "source": [
    "data[\"type\"].value_counts()"
   ]
  },
  {
   "cell_type": "code",
   "execution_count": 7,
   "metadata": {
    "colab": {
     "base_uri": "https://localhost:8080/",
     "height": 237
    },
    "colab_type": "code",
    "id": "kiIJfnqnZylr",
    "outputId": "96ea2947-53fc-4627-a674-ff825711354b"
   },
   "outputs": [
    {
     "data": {
      "text/plain": [
       "step              0\n",
       "type              0\n",
       "amount            0\n",
       "nameOrig          0\n",
       "oldbalanceOrg     0\n",
       "newbalanceOrig    0\n",
       "nameDest          0\n",
       "oldbalanceDest    0\n",
       "newbalanceDest    0\n",
       "isFraud           0\n",
       "isFlaggedFraud    0\n",
       "dtype: int64"
      ]
     },
     "execution_count": 7,
     "metadata": {
      "tags": []
     },
     "output_type": "execute_result"
    }
   ],
   "source": [
    "data.isnull().sum()"
   ]
  },
  {
   "cell_type": "code",
   "execution_count": 0,
   "metadata": {
    "colab": {},
    "colab_type": "code",
    "id": "g4O0rmisZymF"
   },
   "outputs": [],
   "source": [
    "#freq_transaction=data[\"nameOrig\"].value_counts().reset_index()"
   ]
  },
  {
   "cell_type": "code",
   "execution_count": 0,
   "metadata": {
    "colab": {},
    "colab_type": "code",
    "id": "OpJy5BsRai_R"
   },
   "outputs": [],
   "source": [
    "median_amt=data.groupby([\"nameOrig\"]).agg({\"amount\":'median'})\n",
    "mean_amt=data.groupby([\"nameOrig\"]).agg({\"amount\":'mean'})"
   ]
  },
  {
   "cell_type": "code",
   "execution_count": 0,
   "metadata": {
    "colab": {},
    "colab_type": "code",
    "id": "vj1BitCdbLhG"
   },
   "outputs": [],
   "source": [
    "median_amt_recv=data.groupby([\"nameDest\"]).agg({\"amount\":'median'})\n",
    "mean_amt_recv=data.groupby([\"nameDest\"]).agg({\"amount\":'mean'})"
   ]
  },
  {
   "cell_type": "code",
   "execution_count": 0,
   "metadata": {
    "colab": {},
    "colab_type": "code",
    "id": "s2ZViiosbXPE"
   },
   "outputs": [],
   "source": [
    "origin_mean_median=pd.merge(median_amt,mean_amt,on=\"nameOrig\")\n",
    "dest_mean_median=pd.merge(median_amt_recv,mean_amt_recv,on=\"nameDest\")"
   ]
  },
  {
   "cell_type": "code",
   "execution_count": 0,
   "metadata": {
    "colab": {},
    "colab_type": "code",
    "id": "3d83iX7LdRd4"
   },
   "outputs": [],
   "source": [
    "data=pd.merge(data,origin_mean_median,on=\"nameOrig\")"
   ]
  },
  {
   "cell_type": "code",
   "execution_count": 0,
   "metadata": {
    "colab": {},
    "colab_type": "code",
    "id": "nfc1K33gelpI"
   },
   "outputs": [],
   "source": [
    "data=pd.merge(data,dest_mean_median,on=\"nameDest\")"
   ]
  },
  {
   "cell_type": "code",
   "execution_count": 14,
   "metadata": {
    "colab": {
     "base_uri": "https://localhost:8080/",
     "height": 226
    },
    "colab_type": "code",
    "id": "ja4N3Sd5fdzJ",
    "outputId": "3caf02d3-fbb5-4ec2-a585-f76b7e4bb2a8"
   },
   "outputs": [
    {
     "data": {
      "text/html": [
       "<div>\n",
       "<style scoped>\n",
       "    .dataframe tbody tr th:only-of-type {\n",
       "        vertical-align: middle;\n",
       "    }\n",
       "\n",
       "    .dataframe tbody tr th {\n",
       "        vertical-align: top;\n",
       "    }\n",
       "\n",
       "    .dataframe thead th {\n",
       "        text-align: right;\n",
       "    }\n",
       "</style>\n",
       "<table border=\"1\" class=\"dataframe\">\n",
       "  <thead>\n",
       "    <tr style=\"text-align: right;\">\n",
       "      <th></th>\n",
       "      <th>step</th>\n",
       "      <th>type</th>\n",
       "      <th>amount</th>\n",
       "      <th>nameOrig</th>\n",
       "      <th>oldbalanceOrg</th>\n",
       "      <th>newbalanceOrig</th>\n",
       "      <th>nameDest</th>\n",
       "      <th>oldbalanceDest</th>\n",
       "      <th>newbalanceDest</th>\n",
       "      <th>isFraud</th>\n",
       "      <th>isFlaggedFraud</th>\n",
       "      <th>amount_x_x</th>\n",
       "      <th>amount_y_x</th>\n",
       "      <th>amount_x_y</th>\n",
       "      <th>amount_y_y</th>\n",
       "    </tr>\n",
       "  </thead>\n",
       "  <tbody>\n",
       "    <tr>\n",
       "      <th>0</th>\n",
       "      <td>1</td>\n",
       "      <td>PAYMENT</td>\n",
       "      <td>9839.64</td>\n",
       "      <td>C1231006815</td>\n",
       "      <td>170136.00</td>\n",
       "      <td>160296.36</td>\n",
       "      <td>M1979787155</td>\n",
       "      <td>0.00</td>\n",
       "      <td>0.00</td>\n",
       "      <td>0</td>\n",
       "      <td>0</td>\n",
       "      <td>9839.640</td>\n",
       "      <td>9839.640</td>\n",
       "      <td>9839.640</td>\n",
       "      <td>9839.640000</td>\n",
       "    </tr>\n",
       "    <tr>\n",
       "      <th>1</th>\n",
       "      <td>1</td>\n",
       "      <td>PAYMENT</td>\n",
       "      <td>1864.28</td>\n",
       "      <td>C1666544295</td>\n",
       "      <td>21249.00</td>\n",
       "      <td>19384.72</td>\n",
       "      <td>M2044282225</td>\n",
       "      <td>0.00</td>\n",
       "      <td>0.00</td>\n",
       "      <td>0</td>\n",
       "      <td>0</td>\n",
       "      <td>1864.280</td>\n",
       "      <td>1864.280</td>\n",
       "      <td>1864.280</td>\n",
       "      <td>1864.280000</td>\n",
       "    </tr>\n",
       "    <tr>\n",
       "      <th>2</th>\n",
       "      <td>1</td>\n",
       "      <td>TRANSFER</td>\n",
       "      <td>181.00</td>\n",
       "      <td>C1305486145</td>\n",
       "      <td>181.00</td>\n",
       "      <td>0.00</td>\n",
       "      <td>C553264065</td>\n",
       "      <td>0.00</td>\n",
       "      <td>0.00</td>\n",
       "      <td>1</td>\n",
       "      <td>0</td>\n",
       "      <td>181.000</td>\n",
       "      <td>181.000</td>\n",
       "      <td>139366.105</td>\n",
       "      <td>225517.832045</td>\n",
       "    </tr>\n",
       "    <tr>\n",
       "      <th>3</th>\n",
       "      <td>6</td>\n",
       "      <td>TRANSFER</td>\n",
       "      <td>109985.65</td>\n",
       "      <td>C570434649</td>\n",
       "      <td>41851.00</td>\n",
       "      <td>0.00</td>\n",
       "      <td>C553264065</td>\n",
       "      <td>0.00</td>\n",
       "      <td>109985.65</td>\n",
       "      <td>0</td>\n",
       "      <td>0</td>\n",
       "      <td>109985.650</td>\n",
       "      <td>109985.650</td>\n",
       "      <td>139366.105</td>\n",
       "      <td>225517.832045</td>\n",
       "    </tr>\n",
       "    <tr>\n",
       "      <th>4</th>\n",
       "      <td>7</td>\n",
       "      <td>CASH_IN</td>\n",
       "      <td>10256.20</td>\n",
       "      <td>C111105514</td>\n",
       "      <td>3766080.24</td>\n",
       "      <td>3776336.45</td>\n",
       "      <td>C553264065</td>\n",
       "      <td>109985.65</td>\n",
       "      <td>99729.44</td>\n",
       "      <td>0</td>\n",
       "      <td>0</td>\n",
       "      <td>23078.625</td>\n",
       "      <td>23078.625</td>\n",
       "      <td>139366.105</td>\n",
       "      <td>225517.832045</td>\n",
       "    </tr>\n",
       "  </tbody>\n",
       "</table>\n",
       "</div>"
      ],
      "text/plain": [
       "   step      type     amount     nameOrig  oldbalanceOrg  newbalanceOrig  \\\n",
       "0     1   PAYMENT    9839.64  C1231006815      170136.00       160296.36   \n",
       "1     1   PAYMENT    1864.28  C1666544295       21249.00        19384.72   \n",
       "2     1  TRANSFER     181.00  C1305486145         181.00            0.00   \n",
       "3     6  TRANSFER  109985.65   C570434649       41851.00            0.00   \n",
       "4     7   CASH_IN   10256.20   C111105514     3766080.24      3776336.45   \n",
       "\n",
       "      nameDest  oldbalanceDest  newbalanceDest  isFraud  isFlaggedFraud  \\\n",
       "0  M1979787155            0.00            0.00        0               0   \n",
       "1  M2044282225            0.00            0.00        0               0   \n",
       "2   C553264065            0.00            0.00        1               0   \n",
       "3   C553264065            0.00       109985.65        0               0   \n",
       "4   C553264065       109985.65        99729.44        0               0   \n",
       "\n",
       "   amount_x_x  amount_y_x  amount_x_y     amount_y_y  \n",
       "0    9839.640    9839.640    9839.640    9839.640000  \n",
       "1    1864.280    1864.280    1864.280    1864.280000  \n",
       "2     181.000     181.000  139366.105  225517.832045  \n",
       "3  109985.650  109985.650  139366.105  225517.832045  \n",
       "4   23078.625   23078.625  139366.105  225517.832045  "
      ]
     },
     "execution_count": 14,
     "metadata": {
      "tags": []
     },
     "output_type": "execute_result"
    }
   ],
   "source": [
    "data.head()"
   ]
  },
  {
   "cell_type": "code",
   "execution_count": 0,
   "metadata": {
    "colab": {},
    "colab_type": "code",
    "id": "bjNtMw4ue5Nw"
   },
   "outputs": [],
   "source": [
    "data.rename(columns={'amount_x_x':'median_amt_debit',\n",
    "                          'amount_y_x':'mean_amt_debit',\n",
    "                          'amount_x_y':'median_amt_recieved',\n",
    "                          'amount_y_y':'mean_amt_recieved',}, \n",
    "                 inplace=True)"
   ]
  },
  {
   "cell_type": "code",
   "execution_count": 0,
   "metadata": {
    "colab": {},
    "colab_type": "code",
    "id": "-UwdPW6sgCAa"
   },
   "outputs": [],
   "source": [
    "#data=pd.merge(data,freq_transaction,left_on='nameOrig',right_on='index')"
   ]
  },
  {
   "cell_type": "code",
   "execution_count": 17,
   "metadata": {
    "colab": {
     "base_uri": "https://localhost:8080/",
     "height": 226
    },
    "colab_type": "code",
    "id": "Bg_84QZmi_8N",
    "outputId": "a413030e-4783-4468-ac9f-411c0e39fe9e"
   },
   "outputs": [
    {
     "data": {
      "text/html": [
       "<div>\n",
       "<style scoped>\n",
       "    .dataframe tbody tr th:only-of-type {\n",
       "        vertical-align: middle;\n",
       "    }\n",
       "\n",
       "    .dataframe tbody tr th {\n",
       "        vertical-align: top;\n",
       "    }\n",
       "\n",
       "    .dataframe thead th {\n",
       "        text-align: right;\n",
       "    }\n",
       "</style>\n",
       "<table border=\"1\" class=\"dataframe\">\n",
       "  <thead>\n",
       "    <tr style=\"text-align: right;\">\n",
       "      <th></th>\n",
       "      <th>step</th>\n",
       "      <th>type</th>\n",
       "      <th>amount</th>\n",
       "      <th>nameOrig</th>\n",
       "      <th>oldbalanceOrg</th>\n",
       "      <th>newbalanceOrig</th>\n",
       "      <th>nameDest</th>\n",
       "      <th>oldbalanceDest</th>\n",
       "      <th>newbalanceDest</th>\n",
       "      <th>isFraud</th>\n",
       "      <th>isFlaggedFraud</th>\n",
       "      <th>median_amt_debit</th>\n",
       "      <th>mean_amt_debit</th>\n",
       "      <th>median_amt_recieved</th>\n",
       "      <th>mean_amt_recieved</th>\n",
       "    </tr>\n",
       "  </thead>\n",
       "  <tbody>\n",
       "    <tr>\n",
       "      <th>0</th>\n",
       "      <td>1</td>\n",
       "      <td>PAYMENT</td>\n",
       "      <td>9839.64</td>\n",
       "      <td>C1231006815</td>\n",
       "      <td>170136.00</td>\n",
       "      <td>160296.36</td>\n",
       "      <td>M1979787155</td>\n",
       "      <td>0.00</td>\n",
       "      <td>0.00</td>\n",
       "      <td>0</td>\n",
       "      <td>0</td>\n",
       "      <td>9839.640</td>\n",
       "      <td>9839.640</td>\n",
       "      <td>9839.640</td>\n",
       "      <td>9839.640000</td>\n",
       "    </tr>\n",
       "    <tr>\n",
       "      <th>1</th>\n",
       "      <td>1</td>\n",
       "      <td>PAYMENT</td>\n",
       "      <td>1864.28</td>\n",
       "      <td>C1666544295</td>\n",
       "      <td>21249.00</td>\n",
       "      <td>19384.72</td>\n",
       "      <td>M2044282225</td>\n",
       "      <td>0.00</td>\n",
       "      <td>0.00</td>\n",
       "      <td>0</td>\n",
       "      <td>0</td>\n",
       "      <td>1864.280</td>\n",
       "      <td>1864.280</td>\n",
       "      <td>1864.280</td>\n",
       "      <td>1864.280000</td>\n",
       "    </tr>\n",
       "    <tr>\n",
       "      <th>2</th>\n",
       "      <td>1</td>\n",
       "      <td>TRANSFER</td>\n",
       "      <td>181.00</td>\n",
       "      <td>C1305486145</td>\n",
       "      <td>181.00</td>\n",
       "      <td>0.00</td>\n",
       "      <td>C553264065</td>\n",
       "      <td>0.00</td>\n",
       "      <td>0.00</td>\n",
       "      <td>1</td>\n",
       "      <td>0</td>\n",
       "      <td>181.000</td>\n",
       "      <td>181.000</td>\n",
       "      <td>139366.105</td>\n",
       "      <td>225517.832045</td>\n",
       "    </tr>\n",
       "    <tr>\n",
       "      <th>3</th>\n",
       "      <td>6</td>\n",
       "      <td>TRANSFER</td>\n",
       "      <td>109985.65</td>\n",
       "      <td>C570434649</td>\n",
       "      <td>41851.00</td>\n",
       "      <td>0.00</td>\n",
       "      <td>C553264065</td>\n",
       "      <td>0.00</td>\n",
       "      <td>109985.65</td>\n",
       "      <td>0</td>\n",
       "      <td>0</td>\n",
       "      <td>109985.650</td>\n",
       "      <td>109985.650</td>\n",
       "      <td>139366.105</td>\n",
       "      <td>225517.832045</td>\n",
       "    </tr>\n",
       "    <tr>\n",
       "      <th>4</th>\n",
       "      <td>7</td>\n",
       "      <td>CASH_IN</td>\n",
       "      <td>10256.20</td>\n",
       "      <td>C111105514</td>\n",
       "      <td>3766080.24</td>\n",
       "      <td>3776336.45</td>\n",
       "      <td>C553264065</td>\n",
       "      <td>109985.65</td>\n",
       "      <td>99729.44</td>\n",
       "      <td>0</td>\n",
       "      <td>0</td>\n",
       "      <td>23078.625</td>\n",
       "      <td>23078.625</td>\n",
       "      <td>139366.105</td>\n",
       "      <td>225517.832045</td>\n",
       "    </tr>\n",
       "  </tbody>\n",
       "</table>\n",
       "</div>"
      ],
      "text/plain": [
       "   step      type     amount     nameOrig  oldbalanceOrg  newbalanceOrig  \\\n",
       "0     1   PAYMENT    9839.64  C1231006815      170136.00       160296.36   \n",
       "1     1   PAYMENT    1864.28  C1666544295       21249.00        19384.72   \n",
       "2     1  TRANSFER     181.00  C1305486145         181.00            0.00   \n",
       "3     6  TRANSFER  109985.65   C570434649       41851.00            0.00   \n",
       "4     7   CASH_IN   10256.20   C111105514     3766080.24      3776336.45   \n",
       "\n",
       "      nameDest  oldbalanceDest  newbalanceDest  isFraud  isFlaggedFraud  \\\n",
       "0  M1979787155            0.00            0.00        0               0   \n",
       "1  M2044282225            0.00            0.00        0               0   \n",
       "2   C553264065            0.00            0.00        1               0   \n",
       "3   C553264065            0.00       109985.65        0               0   \n",
       "4   C553264065       109985.65        99729.44        0               0   \n",
       "\n",
       "   median_amt_debit  mean_amt_debit  median_amt_recieved  mean_amt_recieved  \n",
       "0          9839.640        9839.640             9839.640        9839.640000  \n",
       "1          1864.280        1864.280             1864.280        1864.280000  \n",
       "2           181.000         181.000           139366.105      225517.832045  \n",
       "3        109985.650      109985.650           139366.105      225517.832045  \n",
       "4         23078.625       23078.625           139366.105      225517.832045  "
      ]
     },
     "execution_count": 17,
     "metadata": {
      "tags": []
     },
     "output_type": "execute_result"
    }
   ],
   "source": [
    "data.head()"
   ]
  },
  {
   "cell_type": "code",
   "execution_count": 0,
   "metadata": {
    "colab": {},
    "colab_type": "code",
    "id": "VX8pe0BOhQJS"
   },
   "outputs": [],
   "source": [
    "data.rename(columns={'nameOrig_y':'No_of_transactions','nameOrig_x':'nameOrig'},inplace=True)"
   ]
  },
  {
   "cell_type": "code",
   "execution_count": 19,
   "metadata": {
    "colab": {
     "base_uri": "https://localhost:8080/",
     "height": 226
    },
    "colab_type": "code",
    "id": "lXIYQwCaheq-",
    "outputId": "6beb5a83-6e47-4639-ec6a-1ceb45c48bcf"
   },
   "outputs": [
    {
     "data": {
      "text/html": [
       "<div>\n",
       "<style scoped>\n",
       "    .dataframe tbody tr th:only-of-type {\n",
       "        vertical-align: middle;\n",
       "    }\n",
       "\n",
       "    .dataframe tbody tr th {\n",
       "        vertical-align: top;\n",
       "    }\n",
       "\n",
       "    .dataframe thead th {\n",
       "        text-align: right;\n",
       "    }\n",
       "</style>\n",
       "<table border=\"1\" class=\"dataframe\">\n",
       "  <thead>\n",
       "    <tr style=\"text-align: right;\">\n",
       "      <th></th>\n",
       "      <th>step</th>\n",
       "      <th>type</th>\n",
       "      <th>amount</th>\n",
       "      <th>nameOrig</th>\n",
       "      <th>oldbalanceOrg</th>\n",
       "      <th>newbalanceOrig</th>\n",
       "      <th>nameDest</th>\n",
       "      <th>oldbalanceDest</th>\n",
       "      <th>newbalanceDest</th>\n",
       "      <th>isFraud</th>\n",
       "      <th>isFlaggedFraud</th>\n",
       "      <th>median_amt_debit</th>\n",
       "      <th>mean_amt_debit</th>\n",
       "      <th>median_amt_recieved</th>\n",
       "      <th>mean_amt_recieved</th>\n",
       "    </tr>\n",
       "  </thead>\n",
       "  <tbody>\n",
       "    <tr>\n",
       "      <th>0</th>\n",
       "      <td>1</td>\n",
       "      <td>PAYMENT</td>\n",
       "      <td>9839.64</td>\n",
       "      <td>C1231006815</td>\n",
       "      <td>170136.00</td>\n",
       "      <td>160296.36</td>\n",
       "      <td>M1979787155</td>\n",
       "      <td>0.00</td>\n",
       "      <td>0.00</td>\n",
       "      <td>0</td>\n",
       "      <td>0</td>\n",
       "      <td>9839.640</td>\n",
       "      <td>9839.640</td>\n",
       "      <td>9839.640</td>\n",
       "      <td>9839.640000</td>\n",
       "    </tr>\n",
       "    <tr>\n",
       "      <th>1</th>\n",
       "      <td>1</td>\n",
       "      <td>PAYMENT</td>\n",
       "      <td>1864.28</td>\n",
       "      <td>C1666544295</td>\n",
       "      <td>21249.00</td>\n",
       "      <td>19384.72</td>\n",
       "      <td>M2044282225</td>\n",
       "      <td>0.00</td>\n",
       "      <td>0.00</td>\n",
       "      <td>0</td>\n",
       "      <td>0</td>\n",
       "      <td>1864.280</td>\n",
       "      <td>1864.280</td>\n",
       "      <td>1864.280</td>\n",
       "      <td>1864.280000</td>\n",
       "    </tr>\n",
       "    <tr>\n",
       "      <th>2</th>\n",
       "      <td>1</td>\n",
       "      <td>TRANSFER</td>\n",
       "      <td>181.00</td>\n",
       "      <td>C1305486145</td>\n",
       "      <td>181.00</td>\n",
       "      <td>0.00</td>\n",
       "      <td>C553264065</td>\n",
       "      <td>0.00</td>\n",
       "      <td>0.00</td>\n",
       "      <td>1</td>\n",
       "      <td>0</td>\n",
       "      <td>181.000</td>\n",
       "      <td>181.000</td>\n",
       "      <td>139366.105</td>\n",
       "      <td>225517.832045</td>\n",
       "    </tr>\n",
       "    <tr>\n",
       "      <th>3</th>\n",
       "      <td>6</td>\n",
       "      <td>TRANSFER</td>\n",
       "      <td>109985.65</td>\n",
       "      <td>C570434649</td>\n",
       "      <td>41851.00</td>\n",
       "      <td>0.00</td>\n",
       "      <td>C553264065</td>\n",
       "      <td>0.00</td>\n",
       "      <td>109985.65</td>\n",
       "      <td>0</td>\n",
       "      <td>0</td>\n",
       "      <td>109985.650</td>\n",
       "      <td>109985.650</td>\n",
       "      <td>139366.105</td>\n",
       "      <td>225517.832045</td>\n",
       "    </tr>\n",
       "    <tr>\n",
       "      <th>4</th>\n",
       "      <td>7</td>\n",
       "      <td>CASH_IN</td>\n",
       "      <td>10256.20</td>\n",
       "      <td>C111105514</td>\n",
       "      <td>3766080.24</td>\n",
       "      <td>3776336.45</td>\n",
       "      <td>C553264065</td>\n",
       "      <td>109985.65</td>\n",
       "      <td>99729.44</td>\n",
       "      <td>0</td>\n",
       "      <td>0</td>\n",
       "      <td>23078.625</td>\n",
       "      <td>23078.625</td>\n",
       "      <td>139366.105</td>\n",
       "      <td>225517.832045</td>\n",
       "    </tr>\n",
       "  </tbody>\n",
       "</table>\n",
       "</div>"
      ],
      "text/plain": [
       "   step      type     amount     nameOrig  oldbalanceOrg  newbalanceOrig  \\\n",
       "0     1   PAYMENT    9839.64  C1231006815      170136.00       160296.36   \n",
       "1     1   PAYMENT    1864.28  C1666544295       21249.00        19384.72   \n",
       "2     1  TRANSFER     181.00  C1305486145         181.00            0.00   \n",
       "3     6  TRANSFER  109985.65   C570434649       41851.00            0.00   \n",
       "4     7   CASH_IN   10256.20   C111105514     3766080.24      3776336.45   \n",
       "\n",
       "      nameDest  oldbalanceDest  newbalanceDest  isFraud  isFlaggedFraud  \\\n",
       "0  M1979787155            0.00            0.00        0               0   \n",
       "1  M2044282225            0.00            0.00        0               0   \n",
       "2   C553264065            0.00            0.00        1               0   \n",
       "3   C553264065            0.00       109985.65        0               0   \n",
       "4   C553264065       109985.65        99729.44        0               0   \n",
       "\n",
       "   median_amt_debit  mean_amt_debit  median_amt_recieved  mean_amt_recieved  \n",
       "0          9839.640        9839.640             9839.640        9839.640000  \n",
       "1          1864.280        1864.280             1864.280        1864.280000  \n",
       "2           181.000         181.000           139366.105      225517.832045  \n",
       "3        109985.650      109985.650           139366.105      225517.832045  \n",
       "4         23078.625       23078.625           139366.105      225517.832045  "
      ]
     },
     "execution_count": 19,
     "metadata": {
      "tags": []
     },
     "output_type": "execute_result"
    }
   ],
   "source": [
    "data.head()"
   ]
  },
  {
   "cell_type": "code",
   "execution_count": 0,
   "metadata": {
    "colab": {},
    "colab_type": "code",
    "id": "NEvNaZECA4S6"
   },
   "outputs": [],
   "source": [
    "data[\"Day\"]=((data['step']-1)/24).astype('int')+1\n",
    "data[\"Hour\"]=data['step']-((data['Day']-1)*24)"
   ]
  },
  {
   "cell_type": "code",
   "execution_count": 0,
   "metadata": {
    "colab": {},
    "colab_type": "code",
    "id": "UB9Y5gbf5j-m"
   },
   "outputs": [],
   "source": [
    "data['error_Orig'] = data['newbalanceOrig'] + data['amount'] - data['oldbalanceOrg']\n",
    "data['error_Dest'] = data['oldbalanceDest'] + data['amount'] - data['newbalanceDest']"
   ]
  },
  {
   "cell_type": "code",
   "execution_count": 0,
   "metadata": {
    "colab": {},
    "colab_type": "code",
    "id": "5u8K3-FahkJN"
   },
   "outputs": [],
   "source": [
    "data.drop(['nameOrig','nameDest','type','isFlaggedFraud','step','mean_amt_debit','oldbalanceOrg','newbalanceDest','amount'],1,inplace=True)"
   ]
  },
  {
   "cell_type": "code",
   "execution_count": 25,
   "metadata": {
    "colab": {
     "base_uri": "https://localhost:8080/",
     "height": 383
    },
    "colab_type": "code",
    "id": "jq068QUL0c5d",
    "outputId": "aa82cba3-4e60-49e8-90ac-6ca687246d84"
   },
   "outputs": [
    {
     "data": {
      "text/html": [
       "<div>\n",
       "<style scoped>\n",
       "    .dataframe tbody tr th:only-of-type {\n",
       "        vertical-align: middle;\n",
       "    }\n",
       "\n",
       "    .dataframe tbody tr th {\n",
       "        vertical-align: top;\n",
       "    }\n",
       "\n",
       "    .dataframe thead th {\n",
       "        text-align: right;\n",
       "    }\n",
       "</style>\n",
       "<table border=\"1\" class=\"dataframe\">\n",
       "  <thead>\n",
       "    <tr style=\"text-align: right;\">\n",
       "      <th></th>\n",
       "      <th>newbalanceOrig</th>\n",
       "      <th>oldbalanceDest</th>\n",
       "      <th>isFraud</th>\n",
       "      <th>median_amt_debit</th>\n",
       "      <th>median_amt_recieved</th>\n",
       "      <th>mean_amt_recieved</th>\n",
       "      <th>Day</th>\n",
       "      <th>Hour</th>\n",
       "      <th>error_Orig</th>\n",
       "      <th>error_Dest</th>\n",
       "    </tr>\n",
       "  </thead>\n",
       "  <tbody>\n",
       "    <tr>\n",
       "      <th>newbalanceOrig</th>\n",
       "      <td>1.000000</td>\n",
       "      <td>0.067812</td>\n",
       "      <td>-0.008148</td>\n",
       "      <td>-0.007858</td>\n",
       "      <td>0.081626</td>\n",
       "      <td>0.071670</td>\n",
       "      <td>-0.010181</td>\n",
       "      <td>-0.004610</td>\n",
       "      <td>0.056897</td>\n",
       "      <td>0.163161</td>\n",
       "    </tr>\n",
       "    <tr>\n",
       "      <th>oldbalanceDest</th>\n",
       "      <td>0.067812</td>\n",
       "      <td>1.000000</td>\n",
       "      <td>-0.005885</td>\n",
       "      <td>0.293774</td>\n",
       "      <td>0.265609</td>\n",
       "      <td>0.611578</td>\n",
       "      <td>0.027878</td>\n",
       "      <td>-0.005966</td>\n",
       "      <td>0.304256</td>\n",
       "      <td>-0.025460</td>\n",
       "    </tr>\n",
       "    <tr>\n",
       "      <th>isFraud</th>\n",
       "      <td>-0.008148</td>\n",
       "      <td>-0.005885</td>\n",
       "      <td>1.000000</td>\n",
       "      <td>0.076671</td>\n",
       "      <td>0.124333</td>\n",
       "      <td>0.079746</td>\n",
       "      <td>0.032425</td>\n",
       "      <td>-0.027781</td>\n",
       "      <td>-0.011283</td>\n",
       "      <td>0.055120</td>\n",
       "    </tr>\n",
       "    <tr>\n",
       "      <th>median_amt_debit</th>\n",
       "      <td>-0.007858</td>\n",
       "      <td>0.293774</td>\n",
       "      <td>0.076671</td>\n",
       "      <td>1.000000</td>\n",
       "      <td>0.324920</td>\n",
       "      <td>0.485512</td>\n",
       "      <td>0.023465</td>\n",
       "      <td>-0.036968</td>\n",
       "      <td>0.969667</td>\n",
       "      <td>-0.189689</td>\n",
       "    </tr>\n",
       "    <tr>\n",
       "      <th>median_amt_recieved</th>\n",
       "      <td>0.081626</td>\n",
       "      <td>0.265609</td>\n",
       "      <td>0.124333</td>\n",
       "      <td>0.324920</td>\n",
       "      <td>1.000000</td>\n",
       "      <td>0.668831</td>\n",
       "      <td>0.021149</td>\n",
       "      <td>-0.038038</td>\n",
       "      <td>0.299474</td>\n",
       "      <td>-0.054426</td>\n",
       "    </tr>\n",
       "    <tr>\n",
       "      <th>mean_amt_recieved</th>\n",
       "      <td>0.071670</td>\n",
       "      <td>0.611578</td>\n",
       "      <td>0.079746</td>\n",
       "      <td>0.485512</td>\n",
       "      <td>0.668831</td>\n",
       "      <td>1.000000</td>\n",
       "      <td>-0.006508</td>\n",
       "      <td>-0.036005</td>\n",
       "      <td>0.468996</td>\n",
       "      <td>-0.128442</td>\n",
       "    </tr>\n",
       "    <tr>\n",
       "      <th>Day</th>\n",
       "      <td>-0.010181</td>\n",
       "      <td>0.027878</td>\n",
       "      <td>0.032425</td>\n",
       "      <td>0.023465</td>\n",
       "      <td>0.021149</td>\n",
       "      <td>-0.006508</td>\n",
       "      <td>1.000000</td>\n",
       "      <td>0.036459</td>\n",
       "      <td>0.021614</td>\n",
       "      <td>0.028090</td>\n",
       "    </tr>\n",
       "    <tr>\n",
       "      <th>Hour</th>\n",
       "      <td>-0.004610</td>\n",
       "      <td>-0.005966</td>\n",
       "      <td>-0.027781</td>\n",
       "      <td>-0.036968</td>\n",
       "      <td>-0.038038</td>\n",
       "      <td>-0.036005</td>\n",
       "      <td>0.036459</td>\n",
       "      <td>1.000000</td>\n",
       "      <td>-0.036999</td>\n",
       "      <td>0.003834</td>\n",
       "    </tr>\n",
       "    <tr>\n",
       "      <th>error_Orig</th>\n",
       "      <td>0.056897</td>\n",
       "      <td>0.304256</td>\n",
       "      <td>-0.011283</td>\n",
       "      <td>0.969667</td>\n",
       "      <td>0.299474</td>\n",
       "      <td>0.468996</td>\n",
       "      <td>0.021614</td>\n",
       "      <td>-0.036999</td>\n",
       "      <td>1.000000</td>\n",
       "      <td>-0.147540</td>\n",
       "    </tr>\n",
       "    <tr>\n",
       "      <th>error_Dest</th>\n",
       "      <td>0.163161</td>\n",
       "      <td>-0.025460</td>\n",
       "      <td>0.055120</td>\n",
       "      <td>-0.189689</td>\n",
       "      <td>-0.054426</td>\n",
       "      <td>-0.128442</td>\n",
       "      <td>0.028090</td>\n",
       "      <td>0.003834</td>\n",
       "      <td>-0.147540</td>\n",
       "      <td>1.000000</td>\n",
       "    </tr>\n",
       "  </tbody>\n",
       "</table>\n",
       "</div>"
      ],
      "text/plain": [
       "                     newbalanceOrig  oldbalanceDest   isFraud  \\\n",
       "newbalanceOrig             1.000000        0.067812 -0.008148   \n",
       "oldbalanceDest             0.067812        1.000000 -0.005885   \n",
       "isFraud                   -0.008148       -0.005885  1.000000   \n",
       "median_amt_debit          -0.007858        0.293774  0.076671   \n",
       "median_amt_recieved        0.081626        0.265609  0.124333   \n",
       "mean_amt_recieved          0.071670        0.611578  0.079746   \n",
       "Day                       -0.010181        0.027878  0.032425   \n",
       "Hour                      -0.004610       -0.005966 -0.027781   \n",
       "error_Orig                 0.056897        0.304256 -0.011283   \n",
       "error_Dest                 0.163161       -0.025460  0.055120   \n",
       "\n",
       "                     median_amt_debit  median_amt_recieved  mean_amt_recieved  \\\n",
       "newbalanceOrig              -0.007858             0.081626           0.071670   \n",
       "oldbalanceDest               0.293774             0.265609           0.611578   \n",
       "isFraud                      0.076671             0.124333           0.079746   \n",
       "median_amt_debit             1.000000             0.324920           0.485512   \n",
       "median_amt_recieved          0.324920             1.000000           0.668831   \n",
       "mean_amt_recieved            0.485512             0.668831           1.000000   \n",
       "Day                          0.023465             0.021149          -0.006508   \n",
       "Hour                        -0.036968            -0.038038          -0.036005   \n",
       "error_Orig                   0.969667             0.299474           0.468996   \n",
       "error_Dest                  -0.189689            -0.054426          -0.128442   \n",
       "\n",
       "                          Day      Hour  error_Orig  error_Dest  \n",
       "newbalanceOrig      -0.010181 -0.004610    0.056897    0.163161  \n",
       "oldbalanceDest       0.027878 -0.005966    0.304256   -0.025460  \n",
       "isFraud              0.032425 -0.027781   -0.011283    0.055120  \n",
       "median_amt_debit     0.023465 -0.036968    0.969667   -0.189689  \n",
       "median_amt_recieved  0.021149 -0.038038    0.299474   -0.054426  \n",
       "mean_amt_recieved   -0.006508 -0.036005    0.468996   -0.128442  \n",
       "Day                  1.000000  0.036459    0.021614    0.028090  \n",
       "Hour                 0.036459  1.000000   -0.036999    0.003834  \n",
       "error_Orig           0.021614 -0.036999    1.000000   -0.147540  \n",
       "error_Dest           0.028090  0.003834   -0.147540    1.000000  "
      ]
     },
     "execution_count": 25,
     "metadata": {
      "tags": []
     },
     "output_type": "execute_result"
    }
   ],
   "source": [
    "data.corr()"
   ]
  },
  {
   "cell_type": "code",
   "execution_count": 26,
   "metadata": {
    "colab": {
     "base_uri": "https://localhost:8080/",
     "height": 219
    },
    "colab_type": "code",
    "id": "JPxiqWyDph3X",
    "outputId": "71699d11-5a30-48bc-c311-0ee3f5ecc4e8"
   },
   "outputs": [
    {
     "data": {
      "text/plain": [
       "newbalanceOrig         float64\n",
       "oldbalanceDest         float64\n",
       "isFraud                  int64\n",
       "median_amt_debit       float64\n",
       "median_amt_recieved    float64\n",
       "mean_amt_recieved      float64\n",
       "Day                      int64\n",
       "Hour                     int64\n",
       "error_Orig             float64\n",
       "error_Dest             float64\n",
       "dtype: object"
      ]
     },
     "execution_count": 26,
     "metadata": {
      "tags": []
     },
     "output_type": "execute_result"
    }
   ],
   "source": [
    "data.dtypes"
   ]
  },
  {
   "cell_type": "code",
   "execution_count": 0,
   "metadata": {
    "colab": {},
    "colab_type": "code",
    "id": "RmZU8FU4LpOi"
   },
   "outputs": [],
   "source": [
    "X=data.drop(['isFraud'],1)\n",
    "y=data['isFraud']"
   ]
  },
  {
   "cell_type": "code",
   "execution_count": 0,
   "metadata": {
    "colab": {},
    "colab_type": "code",
    "id": "UeljoGrNrzFU"
   },
   "outputs": [],
   "source": [
    "X_train,X_test,y_train,y_test=tts(X,y,test_size=0.2,random_state=0)"
   ]
  },
  {
   "cell_type": "code",
   "execution_count": 30,
   "metadata": {
    "colab": {
     "base_uri": "https://localhost:8080/",
     "height": 72
    },
    "colab_type": "code",
    "id": "IDupdtf1x6dT",
    "outputId": "e1d28464-df93-4218-ff9a-81f06b94b0cd"
   },
   "outputs": [
    {
     "data": {
      "text/plain": [
       "0    5083521\n",
       "1       6575\n",
       "Name: isFraud, dtype: int64"
      ]
     },
     "execution_count": 30,
     "metadata": {
      "tags": []
     },
     "output_type": "execute_result"
    }
   ],
   "source": [
    "y_train.value_counts()"
   ]
  },
  {
   "cell_type": "code",
   "execution_count": 0,
   "metadata": {
    "colab": {},
    "colab_type": "code",
    "id": "5wRJFfbEsEwD"
   },
   "outputs": [],
   "source": [
    "rs=RandomUnderSampler(random_state=42)"
   ]
  },
  {
   "cell_type": "code",
   "execution_count": 32,
   "metadata": {
    "colab": {
     "base_uri": "https://localhost:8080/",
     "height": 74
    },
    "colab_type": "code",
    "id": "lCgKKLbasryZ",
    "outputId": "9e49f6d8-7c35-41c3-fe99-d4359a89a485"
   },
   "outputs": [
    {
     "name": "stderr",
     "output_type": "stream",
     "text": [
      "/usr/local/lib/python3.6/dist-packages/sklearn/utils/deprecation.py:87: FutureWarning: Function safe_indexing is deprecated; safe_indexing is deprecated in version 0.22 and will be removed in version 0.24.\n",
      "  warnings.warn(msg, category=FutureWarning)\n"
     ]
    }
   ],
   "source": [
    "X_train_rus,y_train_rus=rs.fit_sample(X_train,y_train)"
   ]
  },
  {
   "cell_type": "code",
   "execution_count": 0,
   "metadata": {
    "colab": {},
    "colab_type": "code",
    "id": "CJEZGS9rs4oZ"
   },
   "outputs": [],
   "source": [
    "dtc=DecisionTreeClassifier(random_state=0)"
   ]
  },
  {
   "cell_type": "code",
   "execution_count": 34,
   "metadata": {
    "colab": {
     "base_uri": "https://localhost:8080/",
     "height": 127
    },
    "colab_type": "code",
    "id": "UR1hneaDtJHj",
    "outputId": "be1f2dcb-c2f7-41d1-ee21-180c1b9112f5"
   },
   "outputs": [
    {
     "data": {
      "text/plain": [
       "DecisionTreeClassifier(ccp_alpha=0.0, class_weight=None, criterion='gini',\n",
       "                       max_depth=None, max_features=None, max_leaf_nodes=None,\n",
       "                       min_impurity_decrease=0.0, min_impurity_split=None,\n",
       "                       min_samples_leaf=1, min_samples_split=2,\n",
       "                       min_weight_fraction_leaf=0.0, presort='deprecated',\n",
       "                       random_state=0, splitter='best')"
      ]
     },
     "execution_count": 34,
     "metadata": {
      "tags": []
     },
     "output_type": "execute_result"
    }
   ],
   "source": [
    "dtc.fit(X_train_rus,y_train_rus)"
   ]
  },
  {
   "cell_type": "code",
   "execution_count": 0,
   "metadata": {
    "colab": {},
    "colab_type": "code",
    "id": "6AeGJAV1tK7J"
   },
   "outputs": [],
   "source": [
    "y_pred_dtc=dtc.predict(X_test)"
   ]
  },
  {
   "cell_type": "code",
   "execution_count": 36,
   "metadata": {
    "colab": {
     "base_uri": "https://localhost:8080/",
     "height": 35
    },
    "colab_type": "code",
    "id": "ScahCaRI0vGI",
    "outputId": "b846bc08-c8a9-431e-c371-3f4d1329a95a"
   },
   "outputs": [
    {
     "data": {
      "text/plain": [
       "0.9951159951159951"
      ]
     },
     "execution_count": 36,
     "metadata": {
      "tags": []
     },
     "output_type": "execute_result"
    }
   ],
   "source": [
    "recall_score(y_test,y_pred_dtc)"
   ]
  },
  {
   "cell_type": "code",
   "execution_count": 37,
   "metadata": {
    "colab": {
     "base_uri": "https://localhost:8080/",
     "height": 35
    },
    "colab_type": "code",
    "id": "z5_Sj5xptfpo",
    "outputId": "e82cf0e7-72e0-4551-c2ee-957094a15674"
   },
   "outputs": [
    {
     "data": {
      "text/plain": [
       "0.32747363134103463"
      ]
     },
     "execution_count": 37,
     "metadata": {
      "tags": []
     },
     "output_type": "execute_result"
    }
   ],
   "source": [
    "f1_score(y_test,y_pred_dtc)"
   ]
  },
  {
   "cell_type": "code",
   "execution_count": 38,
   "metadata": {
    "colab": {
     "base_uri": "https://localhost:8080/",
     "height": 182
    },
    "colab_type": "code",
    "id": "o4hi5D5Dtq5a",
    "outputId": "aa9e26a0-cece-4eb8-c1a8-2328564c5dd5"
   },
   "outputs": [
    {
     "name": "stdout",
     "output_type": "stream",
     "text": [
      "              precision    recall  f1-score   support\n",
      "\n",
      "           0       1.00      0.99      1.00   1270886\n",
      "           1       0.20      1.00      0.33      1638\n",
      "\n",
      "    accuracy                           0.99   1272524\n",
      "   macro avg       0.60      0.99      0.66   1272524\n",
      "weighted avg       1.00      0.99      1.00   1272524\n",
      "\n"
     ]
    }
   ],
   "source": [
    "print(classification_report(y_test,y_pred_dtc))"
   ]
  },
  {
   "cell_type": "code",
   "execution_count": 39,
   "metadata": {
    "colab": {
     "base_uri": "https://localhost:8080/",
     "height": 283
    },
    "colab_type": "code",
    "id": "YXNu-8CcvRXh",
    "outputId": "925459c8-847a-4957-b539-f575de43dde3"
   },
   "outputs": [
    {
     "data": {
      "text/plain": [
       "<BarContainer object of 9 artists>"
      ]
     },
     "execution_count": 39,
     "metadata": {
      "tags": []
     },
     "output_type": "execute_result"
    },
    {
     "data": {
      "image/png": "[encoded data removed]",
      "text/plain": [
       "<Figure size 432x288 with 1 Axes>"
      ]
     },
     "metadata": {
      "tags": []
     },
     "output_type": "display_data"
    }
   ],
   "source": [
    "plt.barh(list(X),list(dtc.feature_importances_))"
   ]
  },
  {
   "cell_type": "code",
   "execution_count": 0,
   "metadata": {
    "colab": {},
    "colab_type": "code",
    "id": "ml9mURFWt2WT"
   },
   "outputs": [],
   "source": [
    "rfc=RandomForestClassifier(random_state=0,n_estimators=100)"
   ]
  },
  {
   "cell_type": "code",
   "execution_count": 41,
   "metadata": {
    "colab": {
     "base_uri": "https://localhost:8080/",
     "height": 164
    },
    "colab_type": "code",
    "id": "uZ0dXEUjuCRa",
    "outputId": "732c7ff9-4a15-4362-a583-62ee3916fb36"
   },
   "outputs": [
    {
     "data": {
      "text/plain": [
       "RandomForestClassifier(bootstrap=True, ccp_alpha=0.0, class_weight=None,\n",
       "                       criterion='gini', max_depth=None, max_features='auto',\n",
       "                       max_leaf_nodes=None, max_samples=None,\n",
       "                       min_impurity_decrease=0.0, min_impurity_split=None,\n",
       "                       min_samples_leaf=1, min_samples_split=2,\n",
       "                       min_weight_fraction_leaf=0.0, n_estimators=100,\n",
       "                       n_jobs=None, oob_score=False, random_state=0, verbose=0,\n",
       "                       warm_start=False)"
      ]
     },
     "execution_count": 41,
     "metadata": {
      "tags": []
     },
     "output_type": "execute_result"
    }
   ],
   "source": [
    "rfc.fit(X_train_rus,y_train_rus)"
   ]
  },
  {
   "cell_type": "code",
   "execution_count": 0,
   "metadata": {
    "colab": {},
    "colab_type": "code",
    "id": "h6ybZKI1uErF"
   },
   "outputs": [],
   "source": [
    "y_pred_rfc=rfc.predict(X_test)"
   ]
  },
  {
   "cell_type": "code",
   "execution_count": 43,
   "metadata": {
    "colab": {
     "base_uri": "https://localhost:8080/",
     "height": 35
    },
    "colab_type": "code",
    "id": "p3tXX92D09EN",
    "outputId": "b5ab4bf9-19a4-45e5-a6b4-2ce1255bf02b"
   },
   "outputs": [
    {
     "data": {
      "text/plain": [
       "0.9957264957264957"
      ]
     },
     "execution_count": 43,
     "metadata": {
      "tags": []
     },
     "output_type": "execute_result"
    }
   ],
   "source": [
    "recall_score(y_test,y_pred_rfc)"
   ]
  },
  {
   "cell_type": "code",
   "execution_count": 44,
   "metadata": {
    "colab": {
     "base_uri": "https://localhost:8080/",
     "height": 35
    },
    "colab_type": "code",
    "id": "EiokiP6zuQ4A",
    "outputId": "87425e0b-2976-4da8-abe6-275dfcbda7b0"
   },
   "outputs": [
    {
     "data": {
      "text/plain": [
       "0.9711223578445967"
      ]
     },
     "execution_count": 44,
     "metadata": {
      "tags": []
     },
     "output_type": "execute_result"
    }
   ],
   "source": [
    "f1_score(y_test,y_pred_rfc)"
   ]
  },
  {
   "cell_type": "code",
   "execution_count": 45,
   "metadata": {
    "colab": {
     "base_uri": "https://localhost:8080/",
     "height": 283
    },
    "colab_type": "code",
    "id": "cZ8it4XBueh9",
    "outputId": "5ee44aff-d1dd-4b1a-cae2-f4eea100d3cc"
   },
   "outputs": [
    {
     "data": {
      "text/plain": [
       "<BarContainer object of 9 artists>"
      ]
     },
     "execution_count": 45,
     "metadata": {
      "tags": []
     },
     "output_type": "execute_result"
    },
    {
     "data": {
      "image/png": "[encoded data removed]",
      "text/plain": [
       "<Figure size 432x288 with 1 Axes>"
      ]
     },
     "metadata": {
      "tags": []
     },
     "output_type": "display_data"
    }
   ],
   "source": [
    "plt.barh(list(X),list(rfc.feature_importances_))"
   ]
  },
  {
   "cell_type": "code",
   "execution_count": 46,
   "metadata": {
    "colab": {
     "base_uri": "https://localhost:8080/",
     "height": 182
    },
    "colab_type": "code",
    "id": "oBJAOpm-1QLq",
    "outputId": "1f3999d4-735e-4d1b-da60-83d4c7fd29bd"
   },
   "outputs": [
    {
     "name": "stdout",
     "output_type": "stream",
     "text": [
      "              precision    recall  f1-score   support\n",
      "\n",
      "           0       1.00      1.00      1.00   1270886\n",
      "           1       0.95      1.00      0.97      1638\n",
      "\n",
      "    accuracy                           1.00   1272524\n",
      "   macro avg       0.97      1.00      0.99   1272524\n",
      "weighted avg       1.00      1.00      1.00   1272524\n",
      "\n"
     ]
    }
   ],
   "source": [
    "print(classification_report(y_test,y_pred_rfc))"
   ]
  },
  {
   "cell_type": "code",
   "execution_count": 0,
   "metadata": {
    "colab": {},
    "colab_type": "code",
    "id": "qsvq79CFurQw"
   },
   "outputs": [],
   "source": [
    "param_rfc={\"criterion\":['entropy','gini'],\n",
    "           \"max_depth\":np.arange(2,11),\n",
    "           \"min_samples_split\":np.arange(2,5),\n",
    "           'max_features':['auto','sqrt','log2']}"
   ]
  },
  {
   "cell_type": "code",
   "execution_count": 0,
   "metadata": {
    "colab": {},
    "colab_type": "code",
    "id": "zZD_x3XrGppM"
   },
   "outputs": [],
   "source": [
    "rfc_cv=GridSearchCV(estimator=rfc,param_grid=param_rfc,cv=5)"
   ]
  },
  {
   "cell_type": "code",
   "execution_count": 49,
   "metadata": {
    "colab": {
     "base_uri": "https://localhost:8080/",
     "height": 421
    },
    "colab_type": "code",
    "id": "UM2-cOmYGpvL",
    "outputId": "ffe6d6f7-50f7-4340-df53-4beb4bedae4d"
   },
   "outputs": [
    {
     "data": {
      "text/plain": [
       "GridSearchCV(cv=5, error_score=nan,\n",
       "             estimator=RandomForestClassifier(bootstrap=True, ccp_alpha=0.0,\n",
       "                                              class_weight=None,\n",
       "                                              criterion='gini', max_depth=None,\n",
       "                                              max_features='auto',\n",
       "                                              max_leaf_nodes=None,\n",
       "                                              max_samples=None,\n",
       "                                              min_impurity_decrease=0.0,\n",
       "                                              min_impurity_split=None,\n",
       "                                              min_samples_leaf=1,\n",
       "                                              min_samples_split=2,\n",
       "                                              min_weight_fraction_leaf=0.0,\n",
       "                                              n_estimators=100, n_jobs=None,\n",
       "                                              oob_score=False, random_state=0,\n",
       "                                              verbose=0, warm_start=False),\n",
       "             iid='deprecated', n_jobs=None,\n",
       "             param_grid={'criterion': ['entropy', 'gini'],\n",
       "                         'max_depth': array([ 2,  3,  4,  5,  6,  7,  8,  9, 10]),\n",
       "                         'max_features': ['auto', 'sqrt', 'log2'],\n",
       "                         'min_samples_split': array([2, 3, 4])},\n",
       "             pre_dispatch='2*n_jobs', refit=True, return_train_score=False,\n",
       "             scoring=None, verbose=0)"
      ]
     },
     "execution_count": 49,
     "metadata": {
      "tags": []
     },
     "output_type": "execute_result"
    }
   ],
   "source": [
    "rfc_cv.fit(X_train_rus,y_train_rus)"
   ]
  },
  {
   "cell_type": "code",
   "execution_count": 50,
   "metadata": {
    "colab": {
     "base_uri": "https://localhost:8080/",
     "height": 164
    },
    "colab_type": "code",
    "id": "BZcYE2ZFGptI",
    "outputId": "684a5c71-b496-4f0e-a69a-984430392c3d"
   },
   "outputs": [
    {
     "data": {
      "text/plain": [
       "RandomForestClassifier(bootstrap=True, ccp_alpha=0.0, class_weight=None,\n",
       "                       criterion='entropy', max_depth=5, max_features='auto',\n",
       "                       max_leaf_nodes=None, max_samples=None,\n",
       "                       min_impurity_decrease=0.0, min_impurity_split=None,\n",
       "                       min_samples_leaf=1, min_samples_split=2,\n",
       "                       min_weight_fraction_leaf=0.0, n_estimators=100,\n",
       "                       n_jobs=None, oob_score=False, random_state=0, verbose=0,\n",
       "                       warm_start=False)"
      ]
     },
     "execution_count": 50,
     "metadata": {
      "tags": []
     },
     "output_type": "execute_result"
    }
   ],
   "source": [
    "rfc_cv.best_estimator_"
   ]
  },
  {
   "cell_type": "code",
   "execution_count": 0,
   "metadata": {
    "colab": {},
    "colab_type": "code",
    "id": "FWYEnnDXGpmm"
   },
   "outputs": [],
   "source": [
    "y_pred_rfcv=rfc_cv.best_estimator_.predict(X_test)"
   ]
  },
  {
   "cell_type": "code",
   "execution_count": 52,
   "metadata": {
    "colab": {
     "base_uri": "https://localhost:8080/",
     "height": 35
    },
    "colab_type": "code",
    "id": "0Jv3Ath9KLCj",
    "outputId": "fa86a711-4470-46dc-f8d2-d55b32791512"
   },
   "outputs": [
    {
     "data": {
      "text/plain": [
       "0.9957264957264957"
      ]
     },
     "execution_count": 52,
     "metadata": {
      "tags": []
     },
     "output_type": "execute_result"
    }
   ],
   "source": [
    "recall_score(y_test,y_pred_rfcv)"
   ]
  },
  {
   "cell_type": "code",
   "execution_count": 53,
   "metadata": {
    "colab": {
     "base_uri": "https://localhost:8080/",
     "height": 35
    },
    "colab_type": "code",
    "id": "6w-jRTxjCzq5",
    "outputId": "d9bac78b-8778-444e-ba5b-3ceeb6d3e4a8"
   },
   "outputs": [
    {
     "data": {
      "text/plain": [
       "0.9740220961481039"
      ]
     },
     "execution_count": 53,
     "metadata": {
      "tags": []
     },
     "output_type": "execute_result"
    }
   ],
   "source": [
    "f1_score(y_test,y_pred_rfcv)"
   ]
  },
  {
   "cell_type": "code",
   "execution_count": 54,
   "metadata": {
    "colab": {
     "base_uri": "https://localhost:8080/",
     "height": 283
    },
    "colab_type": "code",
    "id": "omo4gmhTLEro",
    "outputId": "d89d13a3-e626-4b56-a01d-1b20e37031ad"
   },
   "outputs": [
    {
     "data": {
      "text/plain": [
       "<BarContainer object of 9 artists>"
      ]
     },
     "execution_count": 54,
     "metadata": {
      "tags": []
     },
     "output_type": "execute_result"
    },
    {
     "data": {
      "image/png": "[encoded data removed]",
      "text/plain": [
       "<Figure size 432x288 with 1 Axes>"
      ]
     },
     "metadata": {
      "tags": []
     },
     "output_type": "display_data"
    }
   ],
   "source": [
    "plt.barh(list(X),list(rfc_cv.best_estimator_.feature_importances_))"
   ]
  },
  {
   "cell_type": "code",
   "execution_count": 55,
   "metadata": {
    "colab": {
     "base_uri": "https://localhost:8080/",
     "height": 182
    },
    "colab_type": "code",
    "id": "7FNkxvkIKLRC",
    "outputId": "6a4f9e1a-347d-49f7-890e-61cc74b75d11"
   },
   "outputs": [
    {
     "name": "stdout",
     "output_type": "stream",
     "text": [
      "              precision    recall  f1-score   support\n",
      "\n",
      "           0       1.00      1.00      1.00   1270886\n",
      "           1       0.95      1.00      0.97      1638\n",
      "\n",
      "    accuracy                           1.00   1272524\n",
      "   macro avg       0.98      1.00      0.99   1272524\n",
      "weighted avg       1.00      1.00      1.00   1272524\n",
      "\n"
     ]
    }
   ],
   "source": [
    "print(classification_report(y_test,y_pred_rfcv))"
   ]
  },
  {
   "cell_type": "code",
   "execution_count": 56,
   "metadata": {
    "colab": {
     "base_uri": "https://localhost:8080/",
     "height": 54
    },
    "colab_type": "code",
    "id": "oWZz3CmLO6lX",
    "outputId": "18b64169-c6a2-4b89-b0e5-61269048f8e8"
   },
   "outputs": [
    {
     "data": {
      "text/plain": [
       "array([[1270806,      80],\n",
       "       [      7,    1631]])"
      ]
     },
     "execution_count": 56,
     "metadata": {
      "tags": []
     },
     "output_type": "execute_result"
    }
   ],
   "source": [
    "confusion_matrix(y_test,y_pred_rfcv)"
   ]
  },
  {
   "cell_type": "code",
   "execution_count": 0,
   "metadata": {
    "colab": {},
    "colab_type": "code",
    "id": "CNsHpbqZ_jyT"
   },
   "outputs": [],
   "source": []
  }
 ],
 "metadata": {
  "accelerator": "GPU",
  "colab": {
   "name": "CS_BootCamp_Hackathon.ipynb",
   "provenance": []
  },
  "kernelspec": {
   "display_name": "Python 3",
   "language": "python",
   "name": "python3"
  },
  "language_info": {
   "codemirror_mode": {
    "name": "ipython",
    "version": 3
   },
   "file_extension": ".py",
   "mimetype": "text/x-python",
   "name": "python",
   "nbconvert_exporter": "python",
   "pygments_lexer": "ipython3",
   "version": "3.7.6"
  }
 },
 "nbformat": 4,
 "nbformat_minor": 1
}
